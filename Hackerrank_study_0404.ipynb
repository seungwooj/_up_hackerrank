{
 "cells": [
  {
   "cell_type": "markdown",
   "metadata": {},
   "source": [
    "### Coding Study_0404\n",
    "Hackerrank> algorithm> Implements (3문제)\n",
    "\n",
    "- Cut the sticks : O.K\n",
    "- Non-Divisible Subset : X\n",
    "- Reapeated String : O.K"
   ]
  },
  {
   "cell_type": "code",
   "execution_count": null,
   "metadata": {},
   "outputs": [],
   "source": []
  },
  {
   "cell_type": "code",
   "execution_count": null,
   "metadata": {},
   "outputs": [],
   "source": [
    "### Cut the sticks"
   ]
  },
  {
   "cell_type": "code",
   "execution_count": 23,
   "metadata": {
    "scrolled": true
   },
   "outputs": [
    {
     "name": "stdout",
     "output_type": "stream",
     "text": [
      "6\n",
      "5 4 4 2 2 8\n",
      "6\n",
      "4\n",
      "2\n",
      "1\n"
     ]
    }
   ],
   "source": [
    "n = int(input().strip())\n",
    "arr = list(map(int, input().strip().split(' ')))\n",
    "\n",
    "\n",
    "while(len(arr)):\n",
    "    print(len(arr))\n",
    "    arr = [x - min(arr) for x in arr if x - min(arr)>0]"
   ]
  },
  {
   "cell_type": "code",
   "execution_count": null,
   "metadata": {},
   "outputs": [],
   "source": []
  },
  {
   "cell_type": "code",
   "execution_count": null,
   "metadata": {},
   "outputs": [],
   "source": [
    "### Non-Divisible Subset"
   ]
  },
  {
   "cell_type": "code",
   "execution_count": 87,
   "metadata": {},
   "outputs": [
    {
     "name": "stdout",
     "output_type": "stream",
     "text": [
      "4 3\n",
      "1 7 2 4\n",
      "3\n"
     ]
    }
   ],
   "source": [
    "nk = input().split()\n",
    "\n",
    "n = int(nk[0])\n",
    "k = int(nk[1])\n",
    "S = list(map(int, input().rstrip().split()))\n",
    "\n",
    "answer_i = []\n",
    "answer_j = []\n",
    "\n",
    "for i in range(n): \n",
    "    for j in range(n):\n",
    "        if (S[i] + S[j]) % k ==0:\n",
    "\n",
    "            answer_i.append(i)\n",
    "            answer_j.append(j)\n",
    "\n",
    "empty = []\n",
    "for k in set(answer_i):\n",
    "    l = answer_i.count(k)\n",
    "    empty.append(l)\n",
    "    \n",
    "print(n - empty.count(max(empty)))\n"
   ]
  },
  {
   "cell_type": "code",
   "execution_count": null,
   "metadata": {},
   "outputs": [],
   "source": []
  },
  {
   "cell_type": "code",
   "execution_count": null,
   "metadata": {},
   "outputs": [],
   "source": [
    "### Reapeated String"
   ]
  },
  {
   "cell_type": "code",
   "execution_count": 116,
   "metadata": {},
   "outputs": [
    {
     "name": "stdout",
     "output_type": "stream",
     "text": [
      "aba\n",
      "10\n",
      "7\n"
     ]
    }
   ],
   "source": [
    "#!/bin/python3\n",
    "\n",
    "import sys\n",
    "\n",
    "def repeatedString(s, n):\n",
    "    # Complete this function\n",
    "    if len(s) >= n :\n",
    "        return s[:n].count('a')\n",
    "    \n",
    "    else:\n",
    "        if n % len(s) == 0:\n",
    "            return s.count('a') * (n // len(s))\n",
    "        else:\n",
    "            return s.count('a') * (n // len(s)) + s[:(n%len(s))].count('a')\n",
    "\n",
    "if __name__ == \"__main__\":\n",
    "    s = input().strip()\n",
    "    n = int(input().strip())\n",
    "    result = repeatedString(s, n)\n",
    "    print(result)\n"
   ]
  },
  {
   "cell_type": "code",
   "execution_count": null,
   "metadata": {},
   "outputs": [],
   "source": []
  }
 ],
 "metadata": {
  "kernelspec": {
   "display_name": "Python 3",
   "language": "python",
   "name": "python3"
  },
  "language_info": {
   "codemirror_mode": {
    "name": "ipython",
    "version": 3
   },
   "file_extension": ".py",
   "mimetype": "text/x-python",
   "name": "python",
   "nbconvert_exporter": "python",
   "pygments_lexer": "ipython3",
   "version": "3.6.3"
  }
 },
 "nbformat": 4,
 "nbformat_minor": 2
}
