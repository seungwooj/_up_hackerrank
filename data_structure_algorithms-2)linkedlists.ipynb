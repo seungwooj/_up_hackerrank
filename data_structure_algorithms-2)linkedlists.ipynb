{
 "cells": [
  {
   "cell_type": "markdown",
   "metadata": {},
   "source": [
    "### Linked List programming interview questions"
   ]
  },
  {
   "cell_type": "code",
   "execution_count": 46,
   "metadata": {},
   "outputs": [],
   "source": [
    "# 1) How do you find the middle element of a singly linked list in one pass?"
   ]
  },
  {
   "cell_type": "code",
   "execution_count": 53,
   "metadata": {},
   "outputs": [
    {
     "name": "stdout",
     "output_type": "stream",
     "text": [
      "The middle element is:  4\n"
     ]
    }
   ],
   "source": [
    "class Node:\n",
    "    \n",
    "    def __init__(self, data):\n",
    "        self.data = data\n",
    "        self.next = None\n",
    "\n",
    "class LinkedList:\n",
    "    def __init__(self):\n",
    "        self.head = None\n",
    "    \n",
    "    # single linked list - node가 next를 가리키게 하는 func\n",
    "    def push(self, new_data):\n",
    "        new_node = Node(new_data)\n",
    "        new_node.next = self.head\n",
    "        self.head = new_node\n",
    "        \n",
    "    def printMiddle(self):\n",
    "        slow_ptr = self.head\n",
    "        fast_ptr = self.head\n",
    "        \n",
    "        if self.head is not None:\n",
    "            while (fast_ptr is not None and fast_ptr.next is not None):\n",
    "                fast_ptr = fast_ptr.next.next  # 2번 이동\n",
    "                slow_ptr = slow_ptr.next  # 1번 이동\n",
    "            print(\"The middle element is: \", slow_ptr.data)\n",
    "\n",
    "            \n",
    "list1 = LinkedList()\n",
    "list1.push(7)  # new_node = Node(7), Node(7).next = None, self.head = Node(7)\n",
    "list1.push(6)  # new_node = Node(6), Node(6).next = Node(7), self.head = Node(6)\n",
    "list1.push(5)  # new_node = Node(5), Node(5).next = Node(6), self.head = Node(5)\n",
    "list1.push(4)  # new_node = Node(4), Node(4).next = Node(5), self.head = Node(4)\n",
    "list1.push(3)  # new_node = Node(3), Node(3).next = Node(4), self.head = Node(3)\n",
    "list1.push(2)  # new_node = Node(2), Node(2).next = Node(3), self.head = Node(2)\n",
    "list1.push(1)  # new_node = Node(1), Node(1).next = Node(2), self.head = Node(1)\n",
    "list1.printMiddle()\n",
    "# slow_ptr = fast_ptr = Node(1)\n",
    "# fast_ptr = Node(1).next.next = Node(3), slow_ptr = Node(1).next = Node(2)\n",
    "# fast_ptr = Node(3).next.next = Node(5), slow_ptr = Node(2).next = Node(3)\n",
    "# fast_ptr = Node(5).next.next = Node(7), slow_ptr = Node(3).next = Node(4)\n",
    "# fast_ptr.next = Node(7).next = None => Node(4).data = 4"
   ]
  },
  {
   "cell_type": "code",
   "execution_count": null,
   "metadata": {},
   "outputs": [],
   "source": [
    "# 2) How do you check if a given linked list contains a cycle?"
   ]
  },
  {
   "cell_type": "code",
   "execution_count": 55,
   "metadata": {},
   "outputs": [
    {
     "name": "stdout",
     "output_type": "stream",
     "text": [
      "Cycle found\n"
     ]
    }
   ],
   "source": [
    "class Node:\n",
    "    \n",
    "    def __init__(self, data):\n",
    "        self.data = data\n",
    "        self.next = None\n",
    "        \n",
    "class LinkedList:\n",
    "    def __init__(self):\n",
    "        self.head = None\n",
    "    \n",
    "    # single linked list - node가 next를 가리키게 하는 func\n",
    "    def push(self, new_data):\n",
    "        new_node = Node(new_data)\n",
    "        new_node.next = self.head\n",
    "        self.head = new_node\n",
    "        \n",
    "    def cycle(self):\n",
    "        lst = []\n",
    "        temp = self.head\n",
    "        while True:\n",
    "            if temp in lst:\n",
    "                return True\n",
    "        \n",
    "            lst.append(temp)\n",
    "            temp = temp.next\n",
    "        print(lst)\n",
    "            \n",
    "        return False\n",
    "    \n",
    "        \n",
    "list1 = LinkedList()\n",
    "list1.push(20)\n",
    "list1.push(10)\n",
    "list1.push(5)\n",
    "list1.push(0)\n",
    "\n",
    "# Create loop\n",
    "list1.head.next.next.next.next = list1.head\n",
    "\n",
    "if list1.cycle():\n",
    "    print(\"Cycle found\")\n",
    "else:\n",
    "    print(\"No cycle\")"
   ]
  },
  {
   "cell_type": "code",
   "execution_count": 56,
   "metadata": {},
   "outputs": [],
   "source": [
    "# 2)-2  How do you find the starting node of the cycle?"
   ]
  },
  {
   "cell_type": "code",
   "execution_count": 57,
   "metadata": {},
   "outputs": [],
   "source": [
    "# 3) How do you reverse a linked list?"
   ]
  },
  {
   "cell_type": "code",
   "execution_count": 61,
   "metadata": {},
   "outputs": [
    {
     "name": "stdout",
     "output_type": "stream",
     "text": [
      "Given Linked List\n",
      "0 5 10 20 \n",
      "Reversed Linked List\n",
      "20 10 5 0 "
     ]
    }
   ],
   "source": [
    "class Node:\n",
    "    \n",
    "    def __init__(self, data):\n",
    "        self.data = data\n",
    "        self.next = None\n",
    "        \n",
    "class LinkedList:\n",
    "    def __init__(self):\n",
    "        self.head = None\n",
    "    \n",
    "    # single linked list - node가 next를 가리키게 하는 func\n",
    "    def push(self, new_data):\n",
    "        new_node = Node(new_data)\n",
    "        new_node.next = self.head\n",
    "        self.head = new_node\n",
    "    \n",
    "    # reverse the linked list - node의 방향을 반대로 바꾸는 func    \n",
    "    def reverse(self):\n",
    "        prev = None\n",
    "        current = self.head\n",
    "        while (current is not None):\n",
    "            next = current.next\n",
    "            current.next = prev\n",
    "            prev = current\n",
    "            current = next\n",
    "        self.head = prev\n",
    "        \n",
    "    def printLists(self):\n",
    "        temp = self.head\n",
    "        while temp:\n",
    "            print(temp.data, end=' ')\n",
    "            temp = temp.next\n",
    "        \n",
    "        \n",
    "list1 = LinkedList()\n",
    "list1.push(20)\n",
    "list1.push(10)\n",
    "list1.push(5)\n",
    "list1.push(0)\n",
    "\n",
    "print('Given Linked List')\n",
    "list1.printLists()\n",
    "list1.reverse()\n",
    "print('\\nReversed Linked List')\n",
    "list1.printLists()"
   ]
  },
  {
   "cell_type": "code",
   "execution_count": 62,
   "metadata": {},
   "outputs": [],
   "source": [
    "# 5) how are duplicate nodes removed in a sorted linked list?"
   ]
  },
  {
   "cell_type": "code",
   "execution_count": 63,
   "metadata": {},
   "outputs": [
    {
     "name": "stdout",
     "output_type": "stream",
     "text": [
      "Given Linked List\n",
      "0 5 5 5 10 10 20 \n",
      "Linked List after removing duplicate elements:\n",
      "0 5 10 20 "
     ]
    }
   ],
   "source": [
    "class Node:\n",
    "    \n",
    "    def __init__(self, data):\n",
    "        self.data = data\n",
    "        self.next = None\n",
    "        \n",
    "class LinkedList:\n",
    "    def __init__(self):\n",
    "        self.head = None\n",
    "    \n",
    "    # single linked list - insert new node, node가 next를 가리키게 하는 func\n",
    "    def push(self, new_data):\n",
    "        new_node = Node(new_data)\n",
    "        new_node.next = self.head\n",
    "        self.head = new_node\n",
    "    \n",
    "    # reverse the linked list - node의 방향을 반대로 바꾸는 func    \n",
    "    def delete(self, key):\n",
    "        \n",
    "        # store the head node\n",
    "        temp = self.head\n",
    "        # If head node itself holds the key to be deleted\n",
    "        if (temp is not None):\n",
    "            if temp.data == key:\n",
    "                self.head = temp.next\n",
    "                temp = None\n",
    "                return\n",
    "            \n",
    "        # Search for the key to be deleted, \n",
    "        # keep track of the previous node as\n",
    "        # we need to change 'prev.next'\n",
    "        while(temp is not None):  \n",
    "            if temp.data == key:  \n",
    "                break\n",
    "            prev = temp  \n",
    "            temp = temp.next\n",
    "  \n",
    "        # if key was not present in linked list  \n",
    "        if(temp == None):  \n",
    "            return\n",
    "  \n",
    "        # Unlink the node from linked list  \n",
    "        prev.next = temp.next\n",
    "  \n",
    "        temp = None\n",
    "        \n",
    "    # print the linked LinkedList    \n",
    "    def printLists(self):\n",
    "        temp = self.head\n",
    "        while temp:\n",
    "            print(temp.data, end=' ')\n",
    "            temp = temp.next\n",
    "            \n",
    "    # This function removes duplicates  \n",
    "    # from a sorted list          \n",
    "    def removeDuplicates(self): \n",
    "        temp = self.head \n",
    "        if temp is None: \n",
    "            return\n",
    "        while temp.next is not None: \n",
    "            if temp.data == temp.next.data: \n",
    "                new = temp.next.next\n",
    "                temp.next = None\n",
    "                temp.next = new \n",
    "            else: \n",
    "                temp = temp.next\n",
    "        return self.head \n",
    "        \n",
    "        \n",
    "list1 = LinkedList()\n",
    "list1.push(20)\n",
    "list1.push(10)\n",
    "list1.push(10)\n",
    "list1.push(5)\n",
    "list1.push(5)\n",
    "list1.push(5)\n",
    "list1.push(0)\n",
    "\n",
    "print('Given Linked List')\n",
    "list1.printLists()\n",
    "print('\\nLinked List after removing duplicate elements:')\n",
    "list1.removeDuplicates()\n",
    "list1.printLists()"
   ]
  },
  {
   "cell_type": "code",
   "execution_count": 64,
   "metadata": {},
   "outputs": [],
   "source": [
    "# 6) How do you find the length of a singly linked list? "
   ]
  },
  {
   "cell_type": "code",
   "execution_count": 65,
   "metadata": {},
   "outputs": [
    {
     "name": "stdout",
     "output_type": "stream",
     "text": [
      "Length of LinkedList : 5\n"
     ]
    }
   ],
   "source": [
    "# Node class\n",
    "class Node:\n",
    "    \n",
    "    def __init__(self, data):\n",
    "        self.data = data\n",
    "        self.next = None\n",
    "        \n",
    "        \n",
    "# Linked List class - contains a Node object\n",
    "class LinkedList:\n",
    "    # Initialize head\n",
    "    def __init__(self):\n",
    "        self.head = None\n",
    "    \n",
    "    # single linked list - insert new node, node가 next를 가리키게 하는 func\n",
    "    def push(self, new_data):\n",
    "        # allocate the Node & put in the data\n",
    "        new_node = Node(new_data)\n",
    "        # Make next of new Node as head\n",
    "        new_node.next = self.head\n",
    "        # Move the head to point to new Node\n",
    "        self.head = new_node\n",
    "        \n",
    "    # count the number of node, which is length of the linkedlist\n",
    "    def getCount(self):\n",
    "        temp = self.head\n",
    "        count = 0\n",
    "        \n",
    "        # while loop till the end of the linked list\n",
    "        while temp:\n",
    "            count +=1\n",
    "            temp = temp.next\n",
    "        \n",
    "        return count\n",
    "    \n",
    "\n",
    "list1 = LinkedList()\n",
    "list1.push(20)\n",
    "list1.push(10)\n",
    "list1.push(5)\n",
    "list1.push(0)\n",
    "list1.push(5)\n",
    "print(f'Length of LinkedList : {list1.getCount()}')\n"
   ]
  },
  {
   "cell_type": "code",
   "execution_count": null,
   "metadata": {},
   "outputs": [],
   "source": []
  }
 ],
 "metadata": {
  "kernelspec": {
   "display_name": "Python 3",
   "language": "python",
   "name": "python3"
  },
  "language_info": {
   "codemirror_mode": {
    "name": "ipython",
    "version": 3
   },
   "file_extension": ".py",
   "mimetype": "text/x-python",
   "name": "python",
   "nbconvert_exporter": "python",
   "pygments_lexer": "ipython3",
   "version": "3.7.4"
  }
 },
 "nbformat": 4,
 "nbformat_minor": 2
}
