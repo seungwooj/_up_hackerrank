{
 "cells": [
  {
   "cell_type": "markdown",
   "metadata": {},
   "source": [
    "### String Coding Interview Questions"
   ]
  },
  {
   "cell_type": "code",
   "execution_count": 57,
   "metadata": {},
   "outputs": [],
   "source": [
    "# 1) How do you print duplicate characters from a string? "
   ]
  },
  {
   "cell_type": "code",
   "execution_count": 7,
   "metadata": {},
   "outputs": [
    {
     "name": "stdout",
     "output_type": "stream",
     "text": [
      "g e k s "
     ]
    }
   ],
   "source": [
    "def duplicateChar(str):\n",
    "    \n",
    "    dict = {}\n",
    "    for ch in str:\n",
    "        try:\n",
    "            dict[ch] += 1\n",
    "        except:\n",
    "            dict[ch] = 1\n",
    "    for x in dict.keys():\n",
    "        if dict[x] > 1:\n",
    "            print(x, end=\" \")\n",
    "\n",
    "str = \"geeksforgeeks\"\n",
    "duplicateChar(str)"
   ]
  },
  {
   "cell_type": "code",
   "execution_count": 8,
   "metadata": {},
   "outputs": [],
   "source": [
    "# 2) How do you check if two strings are anagrams of each other?"
   ]
  },
  {
   "cell_type": "code",
   "execution_count": 16,
   "metadata": {},
   "outputs": [
    {
     "name": "stdout",
     "output_type": "stream",
     "text": [
      "Enter the first word or phrase : geeksforgeeks\n",
      "Enter the second word or phrase : forgeeksgeeks\n",
      "Are anagrams.\n",
      "\n",
      "\n"
     ]
    }
   ],
   "source": [
    "# use sorting\n",
    "def areAnagrams(str1, str2):\n",
    "    \n",
    "    set1 = sorted(list(str1.lower()))\n",
    "    set2 = sorted(list(str2.lower()))\n",
    "    return set1 == set2\n",
    "\n",
    "\n",
    "str1 = input(\"Enter the first word or phrase : \")\n",
    "str2 = input(\"Enter the second word or phrase : \")\n",
    "if areAnagrams(str1, str2):\n",
    "    print(\"Are anagrams.\")\n",
    "else:\n",
    "    print(\"Are not anagrams\")"
   ]
  },
  {
   "cell_type": "code",
   "execution_count": null,
   "metadata": {},
   "outputs": [],
   "source": [
    "# 3) How do you print the first non-repeated character from a string?"
   ]
  },
  {
   "cell_type": "code",
   "execution_count": 17,
   "metadata": {},
   "outputs": [
    {
     "name": "stdout",
     "output_type": "stream",
     "text": [
      "First non-repeating character is f\n"
     ]
    }
   ],
   "source": [
    "# Python program to print the first non-repeating character \n",
    "NO_OF_CHARS = 256\n",
    "  \n",
    "# Returns an array of size 256 containg count \n",
    "# of characters in the passed char array \n",
    "def getCharCountArray(string): \n",
    "    count = [0] * NO_OF_CHARS \n",
    "    for i in string: \n",
    "        count[ord(i)]+=1\n",
    "    return count \n",
    "  \n",
    "# The function returns index of first non-repeating \n",
    "# character in a string. If all characters are repeating \n",
    "# then returns -1 \n",
    "def firstNonRepeating(string): \n",
    "    count = getCharCountArray(string) \n",
    "    index = -1\n",
    "    k = 0\n",
    "  \n",
    "    for i in string: \n",
    "        if count[ord(i)] == 1: \n",
    "            index = k  # k번째 글짜를 선택하기 위해 index 지정 \n",
    "            break\n",
    "        k += 1\n",
    "  \n",
    "    return index \n",
    "  \n",
    "# Driver program to test above function \n",
    "string = \"geeksforgeeks\"\n",
    "index = firstNonRepeating(string) \n",
    "if index==1: \n",
    "    print (\"Either all characters are repeating or string is empty\")\n",
    "else: \n",
    "    print(\"First non-repeating character is \" + string[index]) \n",
    "    "
   ]
  },
  {
   "cell_type": "code",
   "execution_count": 18,
   "metadata": {},
   "outputs": [],
   "source": [
    "# 4) How can a given string be reversed using recursion?"
   ]
  },
  {
   "cell_type": "code",
   "execution_count": 31,
   "metadata": {},
   "outputs": [
    {
     "name": "stdout",
     "output_type": "stream",
     "text": [
      "skeeG rof skeeG"
     ]
    }
   ],
   "source": [
    "def reverse(str):\n",
    "    if len(str) == 0:\n",
    "        return\n",
    "    \n",
    "    temp = str[0]  # 재귀로 인해 제일 처음에 선언한 temp가 가장 마지막에 출력\n",
    "    \n",
    "    reverse(str[1:])  # 재귀로 인해 len(str[1:][1:][1:]..) == 0 까지 계속됨 \n",
    "    print(temp, end='')\n",
    "    \n",
    "str = \"Geeks for Geeks\"\n",
    "reverse(str)"
   ]
  },
  {
   "cell_type": "code",
   "execution_count": 32,
   "metadata": {},
   "outputs": [
    {
     "name": "stdout",
     "output_type": "stream",
     "text": [
      "skeeG rof skeeG"
     ]
    }
   ],
   "source": [
    "def reverse_easy(str):\n",
    "    return str[::-1]\n",
    "\n",
    "str = \"Geeks for Geeks\"\n",
    "reverse(str)"
   ]
  },
  {
   "cell_type": "code",
   "execution_count": null,
   "metadata": {},
   "outputs": [],
   "source": [
    "# 5) How do you check if a string contains only digits?"
   ]
  },
  {
   "cell_type": "code",
   "execution_count": 33,
   "metadata": {},
   "outputs": [
    {
     "name": "stdout",
     "output_type": "stream",
     "text": [
      "str1 contains only digits.\n",
      "str2 doesn't contains all digits.\n"
     ]
    }
   ],
   "source": [
    "# isdigit() method 활용\n",
    "def digitsonly(str1, str2):\n",
    "    if str1.isdigit():\n",
    "        print(\"str1 contains only digits.\")\n",
    "    else:\n",
    "        print(\"str1 doesn't contains all digits.\")\n",
    "        \n",
    "    if str2.isdigit():\n",
    "        print(\"str2 contains only digits.\")\n",
    "    else:\n",
    "        print(\"str2 doesn't contains all digits.\")\n",
    "\n",
    "\n",
    "str1 = \"12345567\"\n",
    "str2 = \"abddfe1\"\n",
    "digitsonly(str1, str2)"
   ]
  },
  {
   "cell_type": "code",
   "execution_count": null,
   "metadata": {},
   "outputs": [],
   "source": []
  }
 ],
 "metadata": {
  "kernelspec": {
   "display_name": "Python 3",
   "language": "python",
   "name": "python3"
  },
  "language_info": {
   "codemirror_mode": {
    "name": "ipython",
    "version": 3
   },
   "file_extension": ".py",
   "mimetype": "text/x-python",
   "name": "python",
   "nbconvert_exporter": "python",
   "pygments_lexer": "ipython3",
   "version": "3.7.4"
  }
 },
 "nbformat": 4,
 "nbformat_minor": 2
}
