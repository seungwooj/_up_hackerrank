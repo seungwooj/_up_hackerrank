{
 "cells": [
  {
   "cell_type": "markdown",
   "metadata": {},
   "source": [
    "### Coding Study_0221\n",
    "\n",
    "Hackerrank> algorithm> Implements (7문제)\n",
    "- Sock Merchant\n",
    "- Drawing Book\n",
    "- Counting Valleys\n",
    "- Electronics Shop\n",
    "- Cats and a Mouse\n",
    "- Forming a Magic Square\n",
    "- Picking Numbers"
   ]
  },
  {
   "cell_type": "code",
   "execution_count": 1,
   "metadata": {},
   "outputs": [
    {
     "name": "stdout",
     "output_type": "stream",
     "text": [
      "9\n",
      "10 20 20 10 10 30 50 10 20\n",
      "3\n"
     ]
    }
   ],
   "source": [
    "### Sock Merchant\n",
    "\n",
    "def sockMerchant(n, ar):\n",
    "    result = 0\n",
    "    target = list(set(ar))\n",
    "    for i in target:\n",
    "        result = result + (ar.count(i)//2)\n",
    "    \n",
    "    return result\n",
    "\n",
    "\n",
    "\n",
    "n = int(input().strip())\n",
    "ar = list(map(int, input().strip().split(' ')))\n",
    "result = sockMerchant(n, ar)\n",
    "print(result)\n"
   ]
  },
  {
   "cell_type": "code",
   "execution_count": null,
   "metadata": {},
   "outputs": [],
   "source": []
  },
  {
   "cell_type": "code",
   "execution_count": 2,
   "metadata": {},
   "outputs": [
    {
     "name": "stdout",
     "output_type": "stream",
     "text": [
      "5\n",
      "4\n",
      "0\n"
     ]
    }
   ],
   "source": [
    "### Drawing books\n",
    "\n",
    "def solve(n, p):\n",
    "    \n",
    "    if p <= n // 2:\n",
    "        answer = p // 2\n",
    "    else :\n",
    "        if n % 2 == 0 :\n",
    "            answer = (n - p + 1) // 2\n",
    "        else :\n",
    "            answer = (n - p) // 2\n",
    "\n",
    "    return answer\n",
    "    # Complete this function\n",
    "\n",
    "n = int(input().strip())\n",
    "p = int(input().strip())\n",
    "result = solve(n, p)\n",
    "print(result)"
   ]
  },
  {
   "cell_type": "code",
   "execution_count": null,
   "metadata": {},
   "outputs": [],
   "source": []
  },
  {
   "cell_type": "code",
   "execution_count": null,
   "metadata": {},
   "outputs": [],
   "source": []
  },
  {
   "cell_type": "code",
   "execution_count": 3,
   "metadata": {},
   "outputs": [
    {
     "name": "stdout",
     "output_type": "stream",
     "text": [
      "8\n",
      "UDDDUDUU\n",
      "[1, 0, -1, -2, -1, -2, -1, 0]\n"
     ]
    }
   ],
   "source": [
    "\n",
    "n = int(input().strip())\n",
    "s = input().strip()\n",
    "\n",
    "h = 0\n",
    "change = []\n",
    "for i in range(n):\n",
    "    if s[i] == \"U\" :\n",
    "        h +=1\n",
    "    else : \n",
    "        h -=1\n",
    "\n",
    "    change.append(h)\n",
    "print(change)"
   ]
  },
  {
   "cell_type": "code",
   "execution_count": 4,
   "metadata": {},
   "outputs": [
    {
     "name": "stdout",
     "output_type": "stream",
     "text": [
      "8\n",
      "UDDDUDUU\n",
      "1\n"
     ]
    }
   ],
   "source": [
    "### Counting Valleys\n",
    "\n",
    "def countingValleys(n, s):\n",
    "    h = 0\n",
    "    change = []\n",
    "    for i in range(n):\n",
    "        if s[i] == \"U\" :\n",
    "            h +=1\n",
    "        else : \n",
    "            h -=1\n",
    "\n",
    "        change.append(h)\n",
    "    \n",
    "    result = 0\n",
    "    for j in range(n-1):\n",
    "        if change[j] == 0 and change[j+1] < 0:\n",
    "            result += 1\n",
    "    \n",
    "    return result\n",
    "        \n",
    "\n",
    "\n",
    "if __name__ == \"__main__\":\n",
    "    n = int(input().strip())\n",
    "    s = input().strip()\n",
    "    result = countingValleys(n, s)\n",
    "    print(result)"
   ]
  },
  {
   "cell_type": "code",
   "execution_count": null,
   "metadata": {},
   "outputs": [],
   "source": []
  },
  {
   "cell_type": "code",
   "execution_count": 4,
   "metadata": {},
   "outputs": [
    {
     "name": "stdout",
     "output_type": "stream",
     "text": [
      "5 1 1\n",
      "4\n",
      "5\n",
      "-1\n"
     ]
    }
   ],
   "source": [
    "### Electronics Shop\n",
    "\n",
    "s,n,m = input().strip().split(' ')\n",
    "s,n,m = [int(s),int(n),int(m)]\n",
    "keyboards = list(map(int, input().strip().split(' ')))\n",
    "drives = list(map(int, input().strip().split(' ')))\n",
    "\n",
    "list_1 = []\n",
    "for i in keyboards :\n",
    "    \n",
    "    for j in drives :\n",
    "        sum = i + j\n",
    "        list_1.append(sum)\n",
    "    \n",
    "list_2 = []\n",
    "for k in list_1 :\n",
    "    if s - k >=0:\n",
    "        list_2.append(k)\n",
    "\n",
    "    else : \n",
    "        list_2.append(-1)\n",
    "\n",
    "print(max(list_2))"
   ]
  },
  {
   "cell_type": "code",
   "execution_count": null,
   "metadata": {},
   "outputs": [],
   "source": []
  },
  {
   "cell_type": "code",
   "execution_count": 1,
   "metadata": {},
   "outputs": [
    {
     "name": "stdout",
     "output_type": "stream",
     "text": [
      "3\n",
      "1 2 3\n",
      "Cat B\n",
      "1 3 2\n",
      "Mouse C\n",
      "2 1 3\n",
      "Cat A\n"
     ]
    }
   ],
   "source": [
    "### Cats and a Mouse\n",
    "\n",
    "q = int(input().strip())\n",
    "for a0 in range(q):\n",
    "    x, y, z = input().strip().split(' ')\n",
    "    x, y, z = [int(x), int(y), int(z)]\n",
    "    \n",
    "    if abs(x-z) > abs(y-z) :\n",
    "        print (\"Cat B\")\n",
    "    elif abs(x-z) < abs(y-z) :\n",
    "        print (\"Cat A\")\n",
    "    else:\n",
    "        print(\"Mouse C\")"
   ]
  },
  {
   "cell_type": "code",
   "execution_count": null,
   "metadata": {},
   "outputs": [],
   "source": []
  },
  {
   "cell_type": "code",
   "execution_count": null,
   "metadata": {},
   "outputs": [],
   "source": [
    "### Forming a Magic Square  <- 실패\n",
    "\n",
    "s = []\n",
    "for s_i in range(3):\n",
    "    s_t = [int(s_temp) for s_temp in input().strip().split(' ')]\n",
    "    s.append(s_t)\n",
    "\n",
    "mat = np.array(s)\n",
    "prop_sum = round((mat.sum() * 3 + mat[1,1]) / 8)\n",
    "\n",
    "for i in range(3):\n",
    "    for j in range(3):\n",
    "        print "
   ]
  },
  {
   "cell_type": "code",
   "execution_count": null,
   "metadata": {},
   "outputs": [],
   "source": []
  },
  {
   "cell_type": "code",
   "execution_count": 18,
   "metadata": {},
   "outputs": [
    {
     "name": "stdout",
     "output_type": "stream",
     "text": [
      "6\n",
      "1 2 2 3 1 2\n"
     ]
    },
    {
     "ename": "TypeError",
     "evalue": "'list' object is not callable",
     "output_type": "error",
     "traceback": [
      "\u001b[0;31m---------------------------------------------------------------------------\u001b[0m",
      "\u001b[0;31mTypeError\u001b[0m                                 Traceback (most recent call last)",
      "\u001b[0;32m<ipython-input-18-dfb0d48399a0>\u001b[0m in \u001b[0;36m<module>\u001b[0;34m()\u001b[0m\n\u001b[1;32m     14\u001b[0m \u001b[0;32mif\u001b[0m \u001b[0m__name__\u001b[0m \u001b[0;34m==\u001b[0m \u001b[0;34m\"__main__\"\u001b[0m\u001b[0;34m:\u001b[0m\u001b[0;34m\u001b[0m\u001b[0m\n\u001b[1;32m     15\u001b[0m     \u001b[0mn\u001b[0m \u001b[0;34m=\u001b[0m \u001b[0mint\u001b[0m\u001b[0;34m(\u001b[0m\u001b[0minput\u001b[0m\u001b[0;34m(\u001b[0m\u001b[0;34m)\u001b[0m\u001b[0;34m.\u001b[0m\u001b[0mstrip\u001b[0m\u001b[0;34m(\u001b[0m\u001b[0;34m)\u001b[0m\u001b[0;34m)\u001b[0m\u001b[0;34m\u001b[0m\u001b[0m\n\u001b[0;32m---> 16\u001b[0;31m     \u001b[0ma\u001b[0m \u001b[0;34m=\u001b[0m \u001b[0mlist\u001b[0m\u001b[0;34m(\u001b[0m\u001b[0mmap\u001b[0m\u001b[0;34m(\u001b[0m\u001b[0mint\u001b[0m\u001b[0;34m,\u001b[0m \u001b[0minput\u001b[0m\u001b[0;34m(\u001b[0m\u001b[0;34m)\u001b[0m\u001b[0;34m.\u001b[0m\u001b[0mstrip\u001b[0m\u001b[0;34m(\u001b[0m\u001b[0;34m)\u001b[0m\u001b[0;34m.\u001b[0m\u001b[0msplit\u001b[0m\u001b[0;34m(\u001b[0m\u001b[0;34m' '\u001b[0m\u001b[0;34m)\u001b[0m\u001b[0;34m)\u001b[0m\u001b[0;34m)\u001b[0m\u001b[0;34m\u001b[0m\u001b[0m\n\u001b[0m\u001b[1;32m     17\u001b[0m     \u001b[0mresult\u001b[0m \u001b[0;34m=\u001b[0m \u001b[0mpickingNumbers\u001b[0m\u001b[0;34m(\u001b[0m\u001b[0ma\u001b[0m\u001b[0;34m)\u001b[0m\u001b[0;34m\u001b[0m\u001b[0m\n\u001b[1;32m     18\u001b[0m     \u001b[0mprint\u001b[0m\u001b[0;34m(\u001b[0m\u001b[0mresult\u001b[0m\u001b[0;34m)\u001b[0m\u001b[0;34m\u001b[0m\u001b[0m\n",
      "\u001b[0;31mTypeError\u001b[0m: 'list' object is not callable"
     ]
    }
   ],
   "source": [
    "### Picking Numbers\n",
    "import sys\n",
    "\n",
    "def pickingNumbers(a):\n",
    "    a.sort()\n",
    "    list = []\n",
    "    for i in range(n) :\n",
    "        for j in range(n) :\n",
    "            if abs(a[i] - a[j]) <=1:\n",
    "                list.append(abs(i-j))\n",
    "    result = max(list)+1\n",
    "    return result\n",
    "\n",
    "if __name__ == \"__main__\":\n",
    "    n = int(input().strip())\n",
    "    a = list(map(int, input().strip().split(' ')))\n",
    "    result = pickingNumbers(a)\n",
    "    print(result)"
   ]
  },
  {
   "cell_type": "code",
   "execution_count": null,
   "metadata": {},
   "outputs": [],
   "source": []
  }
 ],
 "metadata": {
  "kernelspec": {
   "display_name": "Python 3",
   "language": "python",
   "name": "python3"
  },
  "language_info": {
   "codemirror_mode": {
    "name": "ipython",
    "version": 3
   },
   "file_extension": ".py",
   "mimetype": "text/x-python",
   "name": "python",
   "nbconvert_exporter": "python",
   "pygments_lexer": "ipython3",
   "version": "3.6.3"
  }
 },
 "nbformat": 4,
 "nbformat_minor": 2
}
