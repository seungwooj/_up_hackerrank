{
 "cells": [
  {
   "cell_type": "markdown",
   "metadata": {},
   "source": [
    "### Coding Study_0301\n",
    "\n",
    "Hackerrank> algorithm> Implements (5문제)\n",
    "- Climbing the Leaderboard (SOLVED - timeout)\n",
    "- The Hurdle Race (SOLVED)\n",
    "- Designer PDF Viewer (SOLVED)\n",
    "- Utopian Tree (SOLVED)\n",
    "- Angry Professor (SOLVED)\n",
    "+ Forming a Magic Square\n"
   ]
  },
  {
   "cell_type": "code",
   "execution_count": null,
   "metadata": {},
   "outputs": [],
   "source": [
    "### Climbing the Leaderboard"
   ]
  },
  {
   "cell_type": "code",
   "execution_count": 36,
   "metadata": {},
   "outputs": [
    {
     "name": "stdout",
     "output_type": "stream",
     "text": [
      "7\n",
      "100 100 50 40 40 20 10\n",
      "4\n",
      "5 25 50 120\n",
      "6\n",
      "4\n",
      "2\n",
      "1\n"
     ]
    }
   ],
   "source": [
    "def climbingLeaderboard(scores, alice):\n",
    "    # Complete this function\n",
    "    alice_rank = []\n",
    "    for i in alice :\n",
    "        scores.append(i)\n",
    "        new_scores = sorted(list(set(scores)))\n",
    "        cur_rank = len(new_scores) - new_scores.index(i)\n",
    "        \n",
    "        alice_rank.append(cur_rank)\n",
    "    \n",
    "    return alice_rank\n",
    "\n",
    "    \n",
    "\n",
    "if __name__ == \"__main__\":\n",
    "    n = int(input().strip())\n",
    "    scores = list(map(int, input().strip().split(' ')))\n",
    "    m = int(input().strip())\n",
    "    alice = list(map(int, input().strip().split(' ')))\n",
    "    result = climbingLeaderboard(scores, alice)\n",
    "    print (\"\\n\".join(map(str, result)))\n"
   ]
  },
  {
   "cell_type": "code",
   "execution_count": 40,
   "metadata": {},
   "outputs": [
    {
     "name": "stdout",
     "output_type": "stream",
     "text": [
      "7\n",
      "100 100 50 40 40 20 10\n",
      "4\n",
      "5 25 50 120\n",
      "6\n",
      "4\n",
      "2\n",
      "1\n"
     ]
    }
   ],
   "source": [
    "n = int(input().strip())\n",
    "scores = list(map(int, input().strip().split(' ')))\n",
    "m = int(input().strip())\n",
    "alice = list(map(int, input().strip().split(' ')))\n",
    "\n",
    "alice_rank = []\n",
    "for i in alice :\n",
    "    scores.append(i)\n",
    "    new_scores = sorted(list(set(scores)))\n",
    "    cur_rank = len(new_scores) - new_scores.index(i)\n",
    "        \n",
    "    alice_rank.append(cur_rank)\n",
    "    \n",
    "print (\"\\n\".join(map(str, alice_rank)))\n",
    "    \n"
   ]
  },
  {
   "cell_type": "code",
   "execution_count": null,
   "metadata": {},
   "outputs": [],
   "source": []
  },
  {
   "cell_type": "code",
   "execution_count": null,
   "metadata": {},
   "outputs": [],
   "source": [
    "### The Hurdle Race"
   ]
  },
  {
   "cell_type": "code",
   "execution_count": 3,
   "metadata": {},
   "outputs": [
    {
     "name": "stdout",
     "output_type": "stream",
     "text": [
      "5 7\n",
      "2 5 4 5 2\n",
      "0\n"
     ]
    }
   ],
   "source": [
    "import sys\n",
    "\n",
    "def hurdleRace(k, height):\n",
    "    # Complete this function\n",
    "    if max(height) - k > 0 :\n",
    "        result = max(height) - k\n",
    "    else:\n",
    "        result = 0\n",
    "\n",
    "    return result\n",
    "\n",
    "if __name__ == \"__main__\":\n",
    "    n, k = input().strip().split(' ')\n",
    "    n, k = [int(n), int(k)]\n",
    "    height = list(map(int, input().strip().split(' ')))\n",
    "    result = hurdleRace(k, height)\n",
    "    print(result)"
   ]
  },
  {
   "cell_type": "code",
   "execution_count": null,
   "metadata": {},
   "outputs": [],
   "source": []
  },
  {
   "cell_type": "code",
   "execution_count": null,
   "metadata": {},
   "outputs": [],
   "source": [
    "### Designer PDF Viewer"
   ]
  },
  {
   "cell_type": "code",
   "execution_count": 32,
   "metadata": {
    "scrolled": true
   },
   "outputs": [
    {
     "name": "stdout",
     "output_type": "stream",
     "text": [
      "1 3 1 3 1 4 1 3 2 5 5 5 5 5 5 5 5 5 5 5 5 5 5 5 5 7\n",
      "zaba\n",
      "28\n"
     ]
    }
   ],
   "source": [
    "h = list(map(int, input().strip().split(' ')))  #숫자 26개 리스트로 변경\n",
    "word = list(input().strip())                    #알파벳들 리스트로 변경\n",
    "\n",
    "alphabet = list(\"abcdefghijklmnopqrstuvwxyz\")   #알파벳의 리스트 만듦\n",
    "result = []\n",
    "\n",
    "for i in range(len(word)):\n",
    "    \n",
    "    outcome = len(word) * h[alphabet.index(word[i])]  #폭(단어의길이) * 높이(단어속 알파벳들이 알파벳 체계에서 나오는 위치를 h안에서 숫자값으로 연결)\n",
    "    result.append(outcome)\n",
    "    \n",
    "print(max(result))                                    #넓이의 최대값\n"
   ]
  },
  {
   "cell_type": "code",
   "execution_count": null,
   "metadata": {},
   "outputs": [],
   "source": []
  },
  {
   "cell_type": "code",
   "execution_count": null,
   "metadata": {},
   "outputs": [],
   "source": [
    "### Utopian Tree"
   ]
  },
  {
   "cell_type": "code",
   "execution_count": 43,
   "metadata": {},
   "outputs": [
    {
     "name": "stdout",
     "output_type": "stream",
     "text": [
      "3\n",
      "0\n",
      "1\n",
      "1\n",
      "2\n",
      "4\n",
      "7\n"
     ]
    }
   ],
   "source": [
    "t = int(input().strip())\n",
    "for a0 in range(t):\n",
    "    n = int(input().strip())\n",
    "    \n",
    "    if n % 2 == 1 :\n",
    "        print (int(2 * ((2**((n + 1) / 2)) - 1) / (2 - 1)))  #초항이 2, 2씩곱하는 등비수열의 합\n",
    "    else :\n",
    "        print (int((2**((n + 2) / 2) - 1) / (2 - 1)))   ##초항이 1, 2씩 곱하는 등비수열의 합"
   ]
  },
  {
   "cell_type": "code",
   "execution_count": 45,
   "metadata": {},
   "outputs": [
    {
     "ename": "SyntaxError",
     "evalue": "invalid syntax (<ipython-input-45-666cd0864b00>, line 2)",
     "output_type": "error",
     "traceback": [
      "\u001b[0;36m  File \u001b[0;32m\"<ipython-input-45-666cd0864b00>\"\u001b[0;36m, line \u001b[0;32m2\u001b[0m\n\u001b[0;31m    a.count(>0)\u001b[0m\n\u001b[0m            ^\u001b[0m\n\u001b[0;31mSyntaxError\u001b[0m\u001b[0;31m:\u001b[0m invalid syntax\n"
     ]
    }
   ],
   "source": [
    "a = [-1, -1, 2, 3, -1]\n",
    "a.count(>0)"
   ]
  },
  {
   "cell_type": "code",
   "execution_count": null,
   "metadata": {},
   "outputs": [],
   "source": [
    "### Angry Professor"
   ]
  },
  {
   "cell_type": "code",
   "execution_count": 1,
   "metadata": {},
   "outputs": [
    {
     "name": "stdout",
     "output_type": "stream",
     "text": [
      "2\n",
      "4 3\n",
      "-1 -3 4 2\n",
      "YES\n",
      "4 2\n",
      "0 -1 2 1\n",
      "NO\n"
     ]
    }
   ],
   "source": [
    "import sys\n",
    "\n",
    "def angryProfessor(k, a):\n",
    "    # Complete this function\n",
    "    good = 0\n",
    "    for i in a :\n",
    "        if i <= 0 :\n",
    "            good += 1\n",
    "    \n",
    "    if good >= k :\n",
    "        result = \"NO\"\n",
    "    else :\n",
    "        result = \"YES\"\n",
    "    \n",
    "    return result\n",
    "    \n",
    "    \n",
    "\n",
    "if __name__ == \"__main__\":\n",
    "    t = int(input().strip())\n",
    "    for a0 in range(t):\n",
    "        n, k = input().strip().split(' ')\n",
    "        n, k = [int(n), int(k)]\n",
    "        a = list(map(int, input().strip().split(' ')))\n",
    "        result = angryProfessor(k, a)\n",
    "        print(result)\n"
   ]
  },
  {
   "cell_type": "code",
   "execution_count": null,
   "metadata": {},
   "outputs": [],
   "source": []
  },
  {
   "cell_type": "code",
   "execution_count": null,
   "metadata": {},
   "outputs": [],
   "source": []
  }
 ],
 "metadata": {
  "kernelspec": {
   "display_name": "Python 3",
   "language": "python",
   "name": "python3"
  },
  "language_info": {
   "codemirror_mode": {
    "name": "ipython",
    "version": 3
   },
   "file_extension": ".py",
   "mimetype": "text/x-python",
   "name": "python",
   "nbconvert_exporter": "python",
   "pygments_lexer": "ipython3",
   "version": "3.6.3"
  }
 },
 "nbformat": 4,
 "nbformat_minor": 2
}
