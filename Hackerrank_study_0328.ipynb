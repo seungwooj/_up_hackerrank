{
 "cells": [
  {
   "cell_type": "markdown",
   "metadata": {},
   "source": [
    "### Coding Study_0329\n",
    "Hackerrank> algorithm> Implements (5문제)\n",
    "\n",
    "- Find Digits\n",
    "- Extra Long Factorials\n",
    "- Append and Delete\n",
    "- Sherlock and Squares\n",
    "- Library Fine"
   ]
  },
  {
   "cell_type": "code",
   "execution_count": null,
   "metadata": {},
   "outputs": [],
   "source": []
  },
  {
   "cell_type": "code",
   "execution_count": null,
   "metadata": {},
   "outputs": [],
   "source": [
    "### Find Digits"
   ]
  },
  {
   "cell_type": "code",
   "execution_count": 1,
   "metadata": {},
   "outputs": [
    {
     "name": "stdout",
     "output_type": "stream",
     "text": [
      "20 23 6\n",
      "2\n"
     ]
    }
   ],
   "source": [
    "#!/bin/python3\n",
    "\n",
    "import sys\n",
    "\n",
    "def beautifulDays(i, j, k):\n",
    "    # Complete this function\n",
    "    count=0\n",
    "    for num in range(i, j+1):\n",
    "        if abs(num - int(str(num)[::-1])) % k == 0 :\n",
    "               count +=1\n",
    "    \n",
    "    return count\n",
    "        \n",
    "\n",
    "if __name__ == \"__main__\":\n",
    "    i, j, k = input().strip().split(' ')\n",
    "    i, j, k = [int(i), int(j), int(k)]\n",
    "    result = beautifulDays(i, j, k)\n",
    "    print(result)"
   ]
  },
  {
   "cell_type": "code",
   "execution_count": null,
   "metadata": {},
   "outputs": [],
   "source": []
  },
  {
   "cell_type": "code",
   "execution_count": null,
   "metadata": {},
   "outputs": [],
   "source": [
    "### Viral Advertising"
   ]
  },
  {
   "cell_type": "code",
   "execution_count": null,
   "metadata": {},
   "outputs": [],
   "source": []
  },
  {
   "cell_type": "code",
   "execution_count": null,
   "metadata": {},
   "outputs": [],
   "source": [
    "### Save the Prisoner!"
   ]
  },
  {
   "cell_type": "code",
   "execution_count": 2,
   "metadata": {},
   "outputs": [
    {
     "name": "stdout",
     "output_type": "stream",
     "text": [
      "2\n",
      "5 2 1\n",
      "2\n",
      "5 2 2\n",
      "3\n"
     ]
    }
   ],
   "source": [
    "#!/bin/python3\n",
    "\n",
    "import sys\n",
    "\n",
    "def saveThePrisoner(n, m, s):\n",
    "    # Complete this function\n",
    "    \n",
    "    if s + m < n :\n",
    "        answer = s + m - 1\n",
    "        \n",
    "    else:\n",
    "        if (s + m - 1) % n == 0:\n",
    "            answer = n\n",
    "        else:\n",
    "            answer = (s + m - 1) % n\n",
    "            \n",
    "    return answer\n",
    "\n",
    "t = int(input().strip())\n",
    "for a0 in range(t):\n",
    "    n, m, s = input().strip().split(' ')\n",
    "    n, m, s = [int(n), int(m), int(s)]\n",
    "    result = saveThePrisoner(n, m, s)\n",
    "    print(result)"
   ]
  },
  {
   "cell_type": "code",
   "execution_count": null,
   "metadata": {},
   "outputs": [],
   "source": [
    "### Circular Array Rotation"
   ]
  },
  {
   "cell_type": "code",
   "execution_count": 3,
   "metadata": {},
   "outputs": [
    {
     "name": "stdout",
     "output_type": "stream",
     "text": [
      "3 2 3\n",
      "1 2 3\n",
      "0\n",
      "1\n",
      "2\n",
      "2\n",
      "3\n",
      "1\n"
     ]
    }
   ],
   "source": [
    "if __name__ == \"__main__\":\n",
    "    n, k, q = input().strip().split(' ')\n",
    "    n, k, q = [int(n), int(k), int(q)]\n",
    "    a = list(map(int, input().strip().split(' ')))\n",
    "\n",
    "    m = []\n",
    "    m_i = 0\n",
    "    for m_i in range(q):\n",
    "       m_t = int(input().strip())\n",
    "       m.append(m_t)\n",
    "        \n",
    "a = a[n-(k%n):] + a[0:n-(k%n)]\n",
    "    \n",
    "for i in m:\n",
    "    print (a[i])"
   ]
  },
  {
   "cell_type": "code",
   "execution_count": null,
   "metadata": {},
   "outputs": [],
   "source": [
    "### Sequence Equation  -> 설명할 수 있도록 준비"
   ]
  },
  {
   "cell_type": "code",
   "execution_count": 9,
   "metadata": {},
   "outputs": [
    {
     "name": "stdout",
     "output_type": "stream",
     "text": [
      "3\n",
      "2 3 1\n",
      "2\n",
      "3\n",
      "1\n"
     ]
    }
   ],
   "source": [
    "n = int(input().strip())\n",
    "p = list(map(int, input().strip().split(' ')))\n",
    "    \n",
    "for i in range(n):\n",
    "    print (p.index(p.index(i+1) + 1) + 1)"
   ]
  },
  {
   "cell_type": "code",
   "execution_count": null,
   "metadata": {},
   "outputs": [],
   "source": [
    "### Jumping on the Clouds: Revisited   <- 전제조건 : n % k = 0"
   ]
  },
  {
   "cell_type": "code",
   "execution_count": 14,
   "metadata": {},
   "outputs": [
    {
     "name": "stdout",
     "output_type": "stream",
     "text": [
      "8 2\n",
      "0 0 1 0 0 1 1 0\n",
      "92\n"
     ]
    }
   ],
   "source": [
    "n, k  = map(int, input().strip().split())\n",
    "clouds = list(map(int, input().strip().split()))\n",
    "    \n",
    "print(100 - sum(1 + 2 * clouds[i] for i in range(0, n, k)))"
   ]
  },
  {
   "cell_type": "code",
   "execution_count": null,
   "metadata": {},
   "outputs": [],
   "source": []
  }
 ],
 "metadata": {
  "kernelspec": {
   "display_name": "Python 3",
   "language": "python",
   "name": "python3"
  },
  "language_info": {
   "codemirror_mode": {
    "name": "ipython",
    "version": 3
   },
   "file_extension": ".py",
   "mimetype": "text/x-python",
   "name": "python",
   "nbconvert_exporter": "python",
   "pygments_lexer": "ipython3",
   "version": "3.6.3"
  }
 },
 "nbformat": 4,
 "nbformat_minor": 2
}
