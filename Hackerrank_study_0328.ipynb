{
 "cells": [
  {
   "cell_type": "markdown",
   "metadata": {},
   "source": [
    "### Coding Study_0329\n",
    "Hackerrank> algorithm> Implements (5문제)\n",
    "\n",
    "- Find Digits : O.K\n",
    "- Extra Long Factorials : O.K\n",
    "- Append and Delete : O.K\n",
    "- Sherlock and Squares : O.K\n",
    "- Library Fine : O.K"
   ]
  },
  {
   "cell_type": "code",
   "execution_count": null,
   "metadata": {},
   "outputs": [],
   "source": []
  },
  {
   "cell_type": "code",
   "execution_count": null,
   "metadata": {},
   "outputs": [],
   "source": [
    "### Find Digits"
   ]
  },
  {
   "cell_type": "code",
   "execution_count": 25,
   "metadata": {},
   "outputs": [
    {
     "name": "stdout",
     "output_type": "stream",
     "text": [
      "2\n",
      "12\n",
      "2\n",
      "1012\n",
      "3\n"
     ]
    }
   ],
   "source": [
    "#!/bin/python3\n",
    "\n",
    "import sys\n",
    "\n",
    "def findDigits(n):\n",
    "    # Complete this function\n",
    "    \n",
    "    answer = 0\n",
    "    \n",
    "    for i in list(str(n)):\n",
    "        i = int(i)\n",
    "        \n",
    "        if i !=0 and n % i == 0:\n",
    "            answer+=1\n",
    "        else:\n",
    "            answer=answer\n",
    "            \n",
    "    return answer\n",
    "    \n",
    "    \n",
    "\n",
    "if __name__ == \"__main__\":\n",
    "    t = int(input().strip())\n",
    "    for a0 in range(t):\n",
    "        n = int(input().strip())\n",
    "        result = findDigits(n)\n",
    "        print(result)"
   ]
  },
  {
   "cell_type": "code",
   "execution_count": null,
   "metadata": {},
   "outputs": [],
   "source": []
  },
  {
   "cell_type": "code",
   "execution_count": null,
   "metadata": {},
   "outputs": [],
   "source": [
    "### Extra Long Factorials"
   ]
  },
  {
   "cell_type": "code",
   "execution_count": 36,
   "metadata": {},
   "outputs": [
    {
     "name": "stdout",
     "output_type": "stream",
     "text": [
      "25\n",
      "15511210043330985984000000\n"
     ]
    }
   ],
   "source": [
    "#!/bin/python3\n",
    "\n",
    "import sys\n",
    "\n",
    "def extraLongFactorials(n):\n",
    "    # Complete this function\n",
    "    \n",
    "    answer = 1\n",
    "    for i in range(2, n+1):\n",
    "        answer *= i\n",
    "    return answer\n",
    "\n",
    "if __name__ == \"__main__\":\n",
    "    n = int(input().strip())\n",
    "    print(extraLongFactorials(n))\n"
   ]
  },
  {
   "cell_type": "code",
   "execution_count": null,
   "metadata": {},
   "outputs": [],
   "source": []
  },
  {
   "cell_type": "code",
   "execution_count": null,
   "metadata": {},
   "outputs": [],
   "source": [
    "### Append and Delete"
   ]
  },
  {
   "cell_type": "code",
   "execution_count": 4,
   "metadata": {},
   "outputs": [
    {
     "name": "stdout",
     "output_type": "stream",
     "text": [
      "uoiauwrebgiwrhgiuawheirhwebvjforidkslweufgrhvjqasw\n",
      "vgftrheydkoslwezxcvdsqjkfhrydjwvogfheksockelsnbkeq\n",
      "100\n",
      "Yes\n"
     ]
    }
   ],
   "source": [
    "#!/bin/python3\n",
    "\n",
    "import sys\n",
    "\n",
    "def appendAndDelete(s, t, k):\n",
    "    # Complete this function\n",
    "    \n",
    "    set = [0]\n",
    "    if len(s) > len(t):\n",
    "        for n in range(len(list(t))):\n",
    "            if list(s[:n+1]) == list(t[:n+1]):\n",
    "                set.append(n)\n",
    "    \n",
    "    else:\n",
    "        for n in range(len(list(s))):\n",
    "            if list(s[:n+1]) == list(t[:n+1]):\n",
    "                set.append(n)\n",
    "            \n",
    "    x = max(set) + 1 if set != [0] else 0\n",
    "    answer  = (len(s) - x) + (len(t) - x)\n",
    "\n",
    "    if k > len(t) + len(s):\n",
    "        return (\"Yes\")\n",
    "    elif answer <= k and (k - answer) % 2 == 0:\n",
    "        return (\"Yes\")\n",
    "    else:\n",
    "        return (\"No\")\n",
    "\n",
    "if __name__ == \"__main__\":\n",
    "    s = input().strip()\n",
    "    t = input().strip()\n",
    "    k = int(input().strip())\n",
    "    result = appendAndDelete(s, t, k)\n",
    "    print(result)\n"
   ]
  },
  {
   "cell_type": "code",
   "execution_count": null,
   "metadata": {},
   "outputs": [],
   "source": []
  },
  {
   "cell_type": "code",
   "execution_count": null,
   "metadata": {},
   "outputs": [],
   "source": [
    "### Sherlock and Squares"
   ]
  },
  {
   "cell_type": "code",
   "execution_count": 66,
   "metadata": {},
   "outputs": [
    {
     "name": "stdout",
     "output_type": "stream",
     "text": [
      "2\n",
      "3 9\n",
      "2\n",
      "17 24\n",
      "0\n"
     ]
    }
   ],
   "source": [
    "#!/bin/python3\n",
    "\n",
    "import sys\n",
    "\n",
    "def squares(a, b):\n",
    "    # Complete this function\n",
    "    \n",
    "    import math\n",
    "    \n",
    "    set = []\n",
    "    for i in range(math.ceil(math.sqrt(a)), math.floor(math.sqrt(b))+1):\n",
    "        set.append(i)\n",
    "    \n",
    "    return len(set)\n",
    "\n",
    "if __name__ == \"__main__\":\n",
    "    q = int(input().strip())\n",
    "    for a0 in range(q):\n",
    "        a, b = input().strip().split(' ')\n",
    "        a, b = [int(a), int(b)]\n",
    "        result = squares(a, b)\n",
    "        print(result)"
   ]
  },
  {
   "cell_type": "code",
   "execution_count": null,
   "metadata": {},
   "outputs": [],
   "source": []
  },
  {
   "cell_type": "code",
   "execution_count": null,
   "metadata": {},
   "outputs": [],
   "source": [
    "### Library Fine"
   ]
  },
  {
   "cell_type": "code",
   "execution_count": 75,
   "metadata": {},
   "outputs": [
    {
     "name": "stdout",
     "output_type": "stream",
     "text": [
      "9 6 2015\n",
      "6 6 2015\n",
      "45\n"
     ]
    }
   ],
   "source": [
    "#!/bin/python3\n",
    "\n",
    "import sys\n",
    "\n",
    "def libraryFine(d1, m1, y1, d2, m2, y2):\n",
    "    # Complete this function\n",
    "    \n",
    "    actual = y1 * 10000 +  m1 * 100 + d1\n",
    "    due = y2 * 10000 + m2 * 100 + d2\n",
    "    \n",
    "    if due >= actual:\n",
    "        return 0\n",
    "    elif y1 != y2:\n",
    "        return 10000 * (y1 - y2)\n",
    "    elif m1 != m2:\n",
    "        return 500 * (m1 - m2)\n",
    "    else:\n",
    "        return 15 * (d1-d2)\n",
    "\n",
    "if __name__ == \"__main__\":\n",
    "    d1, m1, y1 = input().strip().split(' ')\n",
    "    d1, m1, y1 = [int(d1), int(m1), int(y1)]\n",
    "    d2, m2, y2 = input().strip().split(' ')\n",
    "    d2, m2, y2 = [int(d2), int(m2), int(y2)]\n",
    "    result = libraryFine(d1, m1, y1, d2, m2, y2)\n",
    "    print(result)\n"
   ]
  },
  {
   "cell_type": "code",
   "execution_count": null,
   "metadata": {},
   "outputs": [],
   "source": []
  }
 ],
 "metadata": {
  "kernelspec": {
   "display_name": "Python 3",
   "language": "python",
   "name": "python3"
  },
  "language_info": {
   "codemirror_mode": {
    "name": "ipython",
    "version": 3
   },
   "file_extension": ".py",
   "mimetype": "text/x-python",
   "name": "python",
   "nbconvert_exporter": "python",
   "pygments_lexer": "ipython3",
   "version": "3.6.3"
  }
 },
 "nbformat": 4,
 "nbformat_minor": 2
}
