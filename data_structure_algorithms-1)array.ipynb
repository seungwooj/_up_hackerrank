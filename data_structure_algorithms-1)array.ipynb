{
 "cells": [
  {
   "cell_type": "markdown",
   "metadata": {},
   "source": [
    "### Array"
   ]
  },
  {
   "cell_type": "code",
   "execution_count": 1,
   "metadata": {},
   "outputs": [],
   "source": [
    "# 1) How do you find the missing number in a given integer array of 1 to 100? "
   ]
  },
  {
   "cell_type": "code",
   "execution_count": 6,
   "metadata": {},
   "outputs": [
    {
     "data": {
      "text/plain": [
       "[1, 2, 4, 6, 7, 9, 10]"
      ]
     },
     "execution_count": 6,
     "metadata": {},
     "output_type": "execute_result"
    }
   ],
   "source": [
    "def find_missing(lst):\n",
    "    return [x for x in range(lst[0], lst[-1]+1) if x not in lst]\n",
    "\n",
    "lst = [1, 2, 4, 6, 7, 9, 10]\n",
    "find_missing(lst)\n",
    "lst"
   ]
  },
  {
   "cell_type": "code",
   "execution_count": 7,
   "metadata": {},
   "outputs": [],
   "source": [
    "# 2) How do you find the duplicate number on a given integer array?"
   ]
  },
  {
   "cell_type": "code",
   "execution_count": 8,
   "metadata": {},
   "outputs": [
    {
     "name": "stdout",
     "output_type": "stream",
     "text": [
      "12 11 5 "
     ]
    }
   ],
   "source": [
    "def printDuplicates(arr):\n",
    "    \n",
    "    dict = {}  # use empty dictionary\n",
    "    \n",
    "    for ele in arr:\n",
    "        try: dict[ele] += 1\n",
    "        except: dict[ele] = 1\n",
    "            \n",
    "    for item in dict:\n",
    "        if dict[item] > 1:\n",
    "            print(item, end=\" \")\n",
    "            \n",
    "if __name__ == \"__main__\":\n",
    "    list = [12, 11, 40, 12, 5, 6, 5, 12, 11]\n",
    "    printDuplicates(list)"
   ]
  },
  {
   "cell_type": "code",
   "execution_count": 9,
   "metadata": {},
   "outputs": [],
   "source": [
    "# 3) How do you find the largest and smallest number in an unsorted integer array?"
   ]
  },
  {
   "cell_type": "code",
   "execution_count": null,
   "metadata": {},
   "outputs": [],
   "source": [
    "# 5) How do you find duplicate numbers in an array if it contains multiple duplicates?"
   ]
  },
  {
   "cell_type": "code",
   "execution_count": 14,
   "metadata": {},
   "outputs": [
    {
     "name": "stdout",
     "output_type": "stream",
     "text": [
      "Largest element is 45\n",
      "Smallest element is 4\n"
     ]
    }
   ],
   "source": [
    "def find_largest_smallest(list):\n",
    "    largest = list[0]\n",
    "    smallest = list[0]\n",
    "    \n",
    "    for item in list[1:]:\n",
    "        if item > largest:\n",
    "            largest = item\n",
    "        else:\n",
    "            smallest = item\n",
    "    \n",
    "    print(\"Largest element is\", largest)\n",
    "    print(\"Smallest element is\", smallest)\n",
    "    \n",
    "list = [12, 45, 2, 41, 31, 10, 8, 6, 4]\n",
    "find_largest_smallest(list)\n",
    "        "
   ]
  },
  {
   "cell_type": "code",
   "execution_count": 15,
   "metadata": {},
   "outputs": [],
   "source": [
    "# 4) How do you find all pairs of an integer array whose sum is equal to a given number?"
   ]
  },
  {
   "cell_type": "code",
   "execution_count": 17,
   "metadata": {},
   "outputs": [
    {
     "name": "stdout",
     "output_type": "stream",
     "text": [
      "(1, 5)\n",
      "(1, 5)\n",
      "(7, -1)\n"
     ]
    }
   ],
   "source": [
    "def printPairs(arr, sum):\n",
    "    \n",
    "    for item1 in range(len(arr)):\n",
    "        for item2 in range(item1, len(arr)):\n",
    "            if arr[item1] + arr[item2] == sum:\n",
    "                print(f'({arr[item1]}, {arr[item2]})', sep=\"\")\n",
    "                \n",
    "                \n",
    "arr = [1, 5, 7, -1, 5]\n",
    "sum = 6\n",
    "printPairs(arr, 6)"
   ]
  },
  {
   "cell_type": "code",
   "execution_count": 19,
   "metadata": {},
   "outputs": [],
   "source": [
    "# 6) How are duplicates removed from a given array?"
   ]
  },
  {
   "cell_type": "code",
   "execution_count": null,
   "metadata": {},
   "outputs": [],
   "source": [
    "# 8) How do you remove duplicates from an array in place?"
   ]
  },
  {
   "cell_type": "code",
   "execution_count": null,
   "metadata": {},
   "outputs": [],
   "source": [
    "# 10) How are duplicates removed from an array without using any library?"
   ]
  },
  {
   "cell_type": "code",
   "execution_count": 32,
   "metadata": {},
   "outputs": [
    {
     "data": {
      "text/plain": [
       "[1, 2, 3, 4, 5]"
      ]
     },
     "execution_count": 32,
     "metadata": {},
     "output_type": "execute_result"
    }
   ],
   "source": [
    "def removeDuplicates(arr):\n",
    "    \n",
    "    dic = {}\n",
    "    for item in arr:\n",
    "        try: dic[item] +=1\n",
    "        except: dic[item] = 1\n",
    "    \n",
    "    answer = [item for item in dic.keys()]\n",
    "    return answer\n",
    "\n",
    "arr = [1,2,2,3,4,4,4,5,5]\n",
    "removeDuplicates(arr)"
   ]
  },
  {
   "cell_type": "code",
   "execution_count": 33,
   "metadata": {},
   "outputs": [],
   "source": [
    "# 7) How is an integer array sorted in place using the quicksort algorithm?"
   ]
  },
  {
   "cell_type": "code",
   "execution_count": 38,
   "metadata": {},
   "outputs": [
    {
     "name": "stdout",
     "output_type": "stream",
     "text": [
      "Before sorting: [54, 88, 77, 26, 93, 17, 49, 10, 17, 77, 11, 31, 22, 44, 17, 20]\n",
      "After sorting: [10, 11, 17, 17, 17, 20, 22, 26, 31, 44, 49, 54, 77, 77, 88, 93]\n"
     ]
    }
   ],
   "source": [
    "# quick sort 함수\n",
    "def qsort(arr, low, high):\n",
    "    if low < high:\n",
    "        pivot = partition(arr, low, high)\n",
    "        qsort(arr, low, pivot-1)  # (L, pivot-1)\n",
    "        qsort(arr, pivot+1, high)  # (pivot+1, R)\n",
    "\n",
    "# pivot을 기준으로 arr 분할\n",
    "def partition(arr, pivot, high):\n",
    "    item1 = pivot + 1\n",
    "    item2 = high\n",
    "    while True:\n",
    "        while item1 < high and arr[item1] < arr[pivot]:\n",
    "            item1 += 1\n",
    "        while item2 > pivot and arr[item2] > arr[pivot]:\n",
    "            item2 -= 1\n",
    "        if item2 <= item1:\n",
    "            break\n",
    "        \n",
    "        arr[item1], arr[item2] = arr[item2], arr[item1]\n",
    "        item1 += 1\n",
    "        item2 -= 1\n",
    "        \n",
    "    arr[pivot], arr[item2] = arr[item2], arr[pivot]\n",
    "    return item2  # pivot의 인덱스\n",
    "\n",
    "arr = [54, 88, 77, 26, 93, 17, 49, 10, 17, 77, 11, 31, 22, 44, 17, 20]\n",
    "print(f'Before sorting: {arr}')\n",
    "qsort(arr, 0, len(arr)-1)\n",
    "print(f'After sorting: {arr}')"
   ]
  },
  {
   "cell_type": "code",
   "execution_count": null,
   "metadata": {},
   "outputs": [],
   "source": [
    "# 9) How do you reverse an array in place?"
   ]
  },
  {
   "cell_type": "code",
   "execution_count": 45,
   "metadata": {},
   "outputs": [
    {
     "data": {
      "text/plain": [
       "[6, 5, 4, 3, 2, 1]"
      ]
     },
     "execution_count": 45,
     "metadata": {},
     "output_type": "execute_result"
    }
   ],
   "source": [
    "# in-place : 새로 메모리를 할당하지 않고, 바로 바꿔준다.\n",
    "def reverseArray(arr):\n",
    "    front = 0\n",
    "    back = len(arr)-1\n",
    "    \n",
    "    while front < back:\n",
    "        arr[front], arr[back] = arr[back], arr[front]\n",
    "\n",
    "        front +=1\n",
    "        back -=1\n",
    "    \n",
    "    return arr\n",
    "\n",
    "arr = [1,2,3,4,5,6]\n",
    "reverseArray(arr)"
   ]
  },
  {
   "cell_type": "code",
   "execution_count": null,
   "metadata": {},
   "outputs": [],
   "source": []
  }
 ],
 "metadata": {
  "kernelspec": {
   "display_name": "Python 3",
   "language": "python",
   "name": "python3"
  },
  "language_info": {
   "codemirror_mode": {
    "name": "ipython",
    "version": 3
   },
   "file_extension": ".py",
   "mimetype": "text/x-python",
   "name": "python",
   "nbconvert_exporter": "python",
   "pygments_lexer": "ipython3",
   "version": "3.7.4"
  }
 },
 "nbformat": 4,
 "nbformat_minor": 2
}
