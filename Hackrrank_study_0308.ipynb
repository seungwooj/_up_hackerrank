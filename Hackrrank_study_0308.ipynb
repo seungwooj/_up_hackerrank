{
 "cells": [
  {
   "cell_type": "markdown",
   "metadata": {},
   "source": [
    "### Coding Study_0308\n",
    "Hackerrank> algorithm> Implements (6문제)\n",
    "\n",
    "- Beautiful Days at the Movies\n",
    "- Viral Advertising\n",
    "- Save the Prisoner!\n",
    "- Circular Array Rotation\n",
    "- Sequence Equation\n",
    "- Jumping on th Clouds: Revisited"
   ]
  },
  {
   "cell_type": "code",
   "execution_count": null,
   "metadata": {},
   "outputs": [],
   "source": []
  }
 ],
 "metadata": {
  "kernelspec": {
   "display_name": "Python 3",
   "language": "python",
   "name": "python3"
  },
  "language_info": {
   "codemirror_mode": {
    "name": "ipython",
    "version": 3
   },
   "file_extension": ".py",
   "mimetype": "text/x-python",
   "name": "python",
   "nbconvert_exporter": "python",
   "pygments_lexer": "ipython3",
   "version": "3.6.3"
  }
 },
 "nbformat": 4,
 "nbformat_minor": 2
}
